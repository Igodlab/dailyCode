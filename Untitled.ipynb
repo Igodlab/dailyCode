{
 "cells": [
  {
   "cell_type": "code",
   "execution_count": 21,
   "metadata": {},
   "outputs": [],
   "source": [
    "def matrix_spiral_print(M, acc=[]):\n",
    "    # Fill this in.\n",
    "    if M == []:\n",
    "        return acc    \n",
    "    acc += M[0][:] + [M[i][-1] for i in range(1,len(M)-1)] + M[-1][::-1] + [M[i][0] for i in range(len(M)-2, 0, -1)]\n",
    "    Mreduced = [M[i][1:-1] for i in range(1, len(M)-1)]\n",
    "    return matrix_spiral_print(Mreduced, acc)\n",
    "\n",
    "grid = [[1,  2,  3,  4,  5],\n",
    "        [6,  7,  8,  9,  10],\n",
    "        [11, 12, 13, 14, 15],\n",
    "        [16, 17, 18, 19, 20]]\n"
   ]
  },
  {
   "cell_type": "code",
   "execution_count": 22,
   "metadata": {},
   "outputs": [
    {
     "data": {
      "text/plain": [
       "[1, 2, 3, 4, 5, 10, 15, 20, 19, 18, 17, 16, 11, 6, 7, 8, 9, 14, 13, 12]"
      ]
     },
     "execution_count": 22,
     "metadata": {},
     "output_type": "execute_result"
    }
   ],
   "source": [
    "matrix_spiral_print(grid)"
   ]
  },
  {
   "cell_type": "code",
   "execution_count": 38,
   "metadata": {},
   "outputs": [],
   "source": [
    "graph = {\n",
    "  'a': {'a2':{}, 'a3':{} },\n",
    "  'b': {'b2':{}},\n",
    "  'c': {}\n",
    "}\n",
    "\n",
    "del graph[list(graph.keys())[0]]"
   ]
  },
  {
   "cell_type": "code",
   "execution_count": 39,
   "metadata": {},
   "outputs": [
    {
     "data": {
      "text/plain": [
       "{'b': {'b2': {}}, 'c': {}}"
      ]
     },
     "execution_count": 39,
     "metadata": {},
     "output_type": "execute_result"
    }
   ],
   "source": [
    "graph"
   ]
  },
  {
   "cell_type": "code",
   "execution_count": 7,
   "metadata": {},
   "outputs": [
    {
     "name": "stdout",
     "output_type": "stream",
     "text": [
      "[]\n",
      "{'a2': {}, 'a3': {}} 0 ['a', 'b', 'c']\n",
      "{'b2': {}} 0 ['a', 'b', 'c']\n",
      "{} 0 ['a', 'b', 'c']\n"
     ]
    }
   ],
   "source": [
    "# Fill this in.\n",
    "acc = []\n",
    "duplicate = 0\n",
    "\n",
    "print(acc)\n",
    "keys = list(graph.keys())\n",
    "if keys == []:\n",
    "    print(False)\n",
    "\n",
    "if duplicate == 2:\n",
    "    print(True)\n",
    "\n",
    "acc = acc+keys\n",
    "\n",
    "for i in range(len(keys)):\n",
    "    if graph[keys[i]] in acc:\n",
    "        duplicate += 1\n",
    "for i in range(len(keys)):\n",
    "    print(graph[keys[i]], duplicate, acc)"
   ]
  }
 ],
 "metadata": {
  "kernelspec": {
   "display_name": "Python 3",
   "language": "python",
   "name": "python3"
  },
  "language_info": {
   "codemirror_mode": {
    "name": "ipython",
    "version": 3
   },
   "file_extension": ".py",
   "mimetype": "text/x-python",
   "name": "python",
   "nbconvert_exporter": "python",
   "pygments_lexer": "ipython3",
   "version": "3.8.5"
  }
 },
 "nbformat": 4,
 "nbformat_minor": 4
}
